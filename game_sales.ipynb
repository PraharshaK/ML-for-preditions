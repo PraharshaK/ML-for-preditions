{
  "nbformat": 4,
  "nbformat_minor": 0,
  "metadata": {
    "colab": {
      "name": "game_sales.ipynb",
      "provenance": [],
      "collapsed_sections": [],
      "toc_visible": true
    },
    "kernelspec": {
      "name": "python3",
      "display_name": "Python 3"
    },
    "accelerator": "GPU"
  },
  "cells": [
    {
      "cell_type": "markdown",
      "metadata": {
        "id": "WDtqdKGLankj",
        "colab_type": "text"
      },
      "source": [
        "## Loading required libraries"
      ]
    },
    {
      "cell_type": "code",
      "metadata": {
        "id": "tq70z0fHjul0",
        "colab_type": "code",
        "colab": {
          "base_uri": "https://localhost:8080/",
          "height": 71
        },
        "outputId": "c887cc31-31ad-4d75-81a7-9f1fef2d7709"
      },
      "source": [
        "import pandas as pd\n",
        "import numpy as np\n",
        "import matplotlib.pyplot as plt\n",
        "import seaborn as sns\n",
        "\n",
        "%matplotlib inline\n",
        "\n",
        "from lightgbm import LGBMRegressor\n",
        "from xgboost import XGBRegressor\n",
        "from sklearn.ensemble import RandomForestRegressor\n",
        "from catboost import CatBoostRegressor\n",
        "\n",
        "from mlxtend.regressor import StackingCVRegressor"
      ],
      "execution_count": null,
      "outputs": [
        {
          "output_type": "stream",
          "text": [
            "/usr/local/lib/python3.6/dist-packages/statsmodels/tools/_testing.py:19: FutureWarning: pandas.util.testing is deprecated. Use the functions in the public API at pandas.testing instead.\n",
            "  import pandas.util.testing as tm\n"
          ],
          "name": "stderr"
        }
      ]
    },
    {
      "cell_type": "code",
      "metadata": {
        "id": "IxSU22hLkD0s",
        "colab_type": "code",
        "colab": {}
      },
      "source": [
        "from pydrive.auth import GoogleAuth\n",
        "from pydrive.drive import GoogleDrive\n",
        "from google.colab import auth\n",
        "from oauth2client.client import GoogleCredentials\n",
        "\n",
        "auth.authenticate_user()\n",
        "gauth = GoogleAuth()\n",
        "gauth.credentials = GoogleCredentials.get_application_default()\n",
        "drive = GoogleDrive(gauth)"
      ],
      "execution_count": null,
      "outputs": []
    },
    {
      "cell_type": "markdown",
      "metadata": {
        "id": "K9Q6BReCahXv",
        "colab_type": "text"
      },
      "source": [
        "## Reading input data"
      ]
    },
    {
      "cell_type": "code",
      "metadata": {
        "id": "SAKvgC3jkGDE",
        "colab_type": "code",
        "colab": {}
      },
      "source": [
        "train = pd.read_csv(\"/content/Train.csv\")\n",
        "test = pd.read_csv(\"/content/Test.csv\")"
      ],
      "execution_count": null,
      "outputs": []
    },
    {
      "cell_type": "code",
      "metadata": {
        "id": "Unn4C-Lkk7gl",
        "colab_type": "code",
        "colab": {}
      },
      "source": [
        "train = train.drop(columns='ID',axis=1)\n",
        "test = test.drop(columns='ID',axis=1)"
      ],
      "execution_count": null,
      "outputs": []
    },
    {
      "cell_type": "code",
      "metadata": {
        "id": "gaVJcw1glE6y",
        "colab_type": "code",
        "colab": {
          "base_uri": "https://localhost:8080/",
          "height": 306
        },
        "outputId": "59072b6f-f834-4ff9-9346-5881375f0a26"
      },
      "source": [
        "train.nunique() , print(test.nunique())"
      ],
      "execution_count": null,
      "outputs": [
        {
          "output_type": "stream",
          "text": [
            "CONSOLE             17\n",
            "YEAR                25\n",
            "CATEGORY            12\n",
            "PUBLISHER          136\n",
            "RATING               5\n",
            "CRITICS_POINTS     995\n",
            "USER_POINTS       1110\n",
            "dtype: int64\n"
          ],
          "name": "stdout"
        },
        {
          "output_type": "execute_result",
          "data": {
            "text/plain": [
              "(CONSOLE              17\n",
              " YEAR                 23\n",
              " CATEGORY             12\n",
              " PUBLISHER           204\n",
              " RATING                6\n",
              " CRITICS_POINTS     1683\n",
              " USER_POINTS        2187\n",
              " SalesInMillions    3506\n",
              " dtype: int64, None)"
            ]
          },
          "metadata": {
            "tags": []
          },
          "execution_count": 70
        }
      ]
    },
    {
      "cell_type": "markdown",
      "metadata": {
        "id": "LiulHB06aXOF",
        "colab_type": "text"
      },
      "source": [
        "### EDA and feature engineering"
      ]
    },
    {
      "cell_type": "code",
      "metadata": {
        "id": "HwKwtjctDvcZ",
        "colab_type": "code",
        "colab": {}
      },
      "source": [
        "sns.pairplot(train, vars=[\"RATING\",\"PUBLISHER\", \"SalesInMillions\"])"
      ],
      "execution_count": null,
      "outputs": []
    },
    {
      "cell_type": "code",
      "metadata": {
        "id": "uyx2WIEiDVO7",
        "colab_type": "code",
        "colab": {
          "base_uri": "https://localhost:8080/",
          "height": 51
        },
        "outputId": "0a3143fd-b25d-4f0d-d23a-f886d0ae257f"
      },
      "source": [
        "set(train['RATING']),print(set(test['RATING']))"
      ],
      "execution_count": null,
      "outputs": [
        {
          "output_type": "stream",
          "text": [
            "{'E10+', 'M', 'AO', 'E', 'T'}\n"
          ],
          "name": "stdout"
        },
        {
          "output_type": "execute_result",
          "data": {
            "text/plain": [
              "({'E', 'E10+', 'K-A', 'M', 'RP', 'T'}, None)"
            ]
          },
          "metadata": {
            "tags": []
          },
          "execution_count": 91
        }
      ]
    },
    {
      "cell_type": "code",
      "metadata": {
        "id": "VwEIjjHNlE15",
        "colab_type": "code",
        "colab": {}
      },
      "source": [
        "data = train.append(test)\n",
        "data=data.reset_index()\n",
        "data=data.drop(['index'],axis=1)\n",
        "\n",
        "data=data.drop(['RATING'],axis=1)\n",
        "data=data.drop(['PUBLISHER'],axis=1)"
      ],
      "execution_count": null,
      "outputs": []
    },
    {
      "cell_type": "code",
      "metadata": {
        "id": "AhPYOyJR8MUU",
        "colab_type": "code",
        "colab": {
          "base_uri": "https://localhost:8080/",
          "height": 221
        },
        "outputId": "8e285d6f-8476-4ff1-889b-e864355297bd"
      },
      "source": [
        "set(data['CATEGORY'])"
      ],
      "execution_count": null,
      "outputs": [
        {
          "output_type": "execute_result",
          "data": {
            "text/plain": [
              "{'action',\n",
              " 'adventure',\n",
              " 'fighting',\n",
              " 'misc',\n",
              " 'platform',\n",
              " 'puzzle',\n",
              " 'racing',\n",
              " 'role-playing',\n",
              " 'shooter',\n",
              " 'simulation',\n",
              " 'sports',\n",
              " 'strategy'}"
            ]
          },
          "metadata": {
            "tags": []
          },
          "execution_count": 6
        }
      ]
    },
    {
      "cell_type": "code",
      "metadata": {
        "id": "RkqxE8Zo6mD-",
        "colab_type": "code",
        "colab": {}
      },
      "source": [
        "category = {'action': '1',\n",
        "         'adventure': '2',\n",
        "         'fighting': '3',\n",
        "         'misc': '4',\n",
        "         'platform': '5',\n",
        "         'puzzle': '6',\n",
        "         'racing': '7',\n",
        "         'role-playing': '8',\n",
        "         'shooter': '9',\n",
        "         'simulation': '10',\n",
        "         'sports': '11',\n",
        "         'strategy': '12'}\n",
        "\n",
        "data['CATEGORY'] = data['CATEGORY'].map(category)"
      ],
      "execution_count": null,
      "outputs": []
    },
    {
      "cell_type": "code",
      "metadata": {
        "id": "D4ypk7XhEyhR",
        "colab_type": "code",
        "colab": {}
      },
      "source": [
        "cat = data[['CATEGORY','CONSOLE']]\n",
        "cat = pd.get_dummies(cat)\n",
        "#cat.head()\n",
        "num = data.drop(['CATEGORY'],axis=1)\n",
        "num = data.drop(['CONSOLE'],axis=1)\n",
        "\n",
        "data=pd.concat([cat, num], axis=1)"
      ],
      "execution_count": null,
      "outputs": []
    },
    {
      "cell_type": "code",
      "metadata": {
        "id": "kBl00U_KKBlF",
        "colab_type": "code",
        "colab": {}
      },
      "source": [
        "#data.head()\n",
        "data = data.drop('CATEGORY',axis=1)"
      ],
      "execution_count": null,
      "outputs": []
    },
    {
      "cell_type": "markdown",
      "metadata": {
        "id": "D--PUpt-9MsM",
        "colab_type": "text"
      },
      "source": [
        "### Model building\n"
      ]
    },
    {
      "cell_type": "code",
      "metadata": {
        "id": "tWIgcp34lEur",
        "colab_type": "code",
        "colab": {}
      },
      "source": [
        "tr=data[:train.shape[0]]\n",
        "te=data[train.shape[0]:]\n",
        "\n",
        "x=tr.drop('SalesInMillions',axis=1)\n",
        "y=tr['SalesInMillions']"
      ],
      "execution_count": null,
      "outputs": []
    },
    {
      "cell_type": "code",
      "metadata": {
        "id": "LdeKiJYtlEm-",
        "colab_type": "code",
        "colab": {}
      },
      "source": [
        "lgb = LGBMRegressor(objective='regression',num_leaves=100,learning_rate=0.1, n_estimators=1200,random_state=111)\n",
        "\n",
        "xgb=XGBRegressor(learning_rate =0.1, \n",
        "      n_estimators=1700, max_depth=12, min_child_weight=1,gamma=0, reg_alpha=2e-5,\n",
        "      subsample=0.8,colsample_bytree=0.8,\n",
        "      nthread=4,scale_pos_weight=1,seed=27,verbose=True,random_state=10)\n",
        "\n",
        "rf=RandomForestRegressor(n_estimators=500,random_state =111,max_features = \"auto\",criterion='mse',max_depth=100)\n",
        "\n",
        "model = CatBoostRegressor(iterations=100,depth=10,learning_rate=0.1,loss_function='RMSE')"
      ],
      "execution_count": null,
      "outputs": []
    },
    {
      "cell_type": "code",
      "metadata": {
        "id": "1WZC-H9llEj7",
        "colab_type": "code",
        "colab": {}
      },
      "source": [
        "avg = StackingCVRegressor(regressors=(lgb,xgb,rf,model),meta_regressor=xgb, use_features_in_secondary=True)"
      ],
      "execution_count": null,
      "outputs": []
    },
    {
      "cell_type": "code",
      "metadata": {
        "id": "-cmleRj9zF96",
        "colab_type": "code",
        "colab": {}
      },
      "source": [
        "X=np.array(x)\n",
        "Y=np.array(y)"
      ],
      "execution_count": null,
      "outputs": []
    },
    {
      "cell_type": "code",
      "metadata": {
        "id": "qHBaTe7z1Xji",
        "colab_type": "code",
        "colab": {
          "base_uri": "https://localhost:8080/",
          "height": 700
        },
        "outputId": "5e05e799-1d66-4028-8195-1a30d24e373a"
      },
      "source": [
        "avg.fit(X,Y)"
      ],
      "execution_count": null,
      "outputs": [
        {
          "output_type": "stream",
          "text": [
            "[08:20:09] WARNING: /workspace/src/objective/regression_obj.cu:152: reg:linear is now deprecated in favor of reg:squarederror.\n",
            "[08:20:30] WARNING: /workspace/src/objective/regression_obj.cu:152: reg:linear is now deprecated in favor of reg:squarederror.\n",
            "[08:20:50] WARNING: /workspace/src/objective/regression_obj.cu:152: reg:linear is now deprecated in favor of reg:squarederror.\n",
            "[08:21:10] WARNING: /workspace/src/objective/regression_obj.cu:152: reg:linear is now deprecated in favor of reg:squarederror.\n",
            "[08:21:31] WARNING: /workspace/src/objective/regression_obj.cu:152: reg:linear is now deprecated in favor of reg:squarederror.\n",
            "[08:27:50] WARNING: /workspace/src/objective/regression_obj.cu:152: reg:linear is now deprecated in favor of reg:squarederror.\n",
            "[08:28:18] WARNING: /workspace/src/objective/regression_obj.cu:152: reg:linear is now deprecated in favor of reg:squarederror.\n"
          ],
          "name": "stdout"
        },
        {
          "output_type": "execute_result",
          "data": {
            "text/plain": [
              "StackingCVRegressor(cv=5,\n",
              "                    meta_regressor=XGBRegressor(base_score=0.5,\n",
              "                                                booster='gbtree',\n",
              "                                                colsample_bylevel=1,\n",
              "                                                colsample_bynode=1,\n",
              "                                                colsample_bytree=1, gamma=0,\n",
              "                                                importance_type='gain',\n",
              "                                                learning_rate=0.05,\n",
              "                                                max_delta_step=0, max_depth=3,\n",
              "                                                min_child_weight=1,\n",
              "                                                missing=None, n_estimators=1500,\n",
              "                                                n_jobs=1, nthread=None,\n",
              "                                                objective='reg:linear',\n",
              "                                                random_state=111, reg_alpha=0,\n",
              "                                                reg_...\n",
              "                                                      max_depth=50,\n",
              "                                                      max_features='auto',\n",
              "                                                      max_leaf_nodes=None,\n",
              "                                                      max_samples=None,\n",
              "                                                      min_impurity_decrease=0.0,\n",
              "                                                      min_impurity_split=None,\n",
              "                                                      min_samples_leaf=1,\n",
              "                                                      min_samples_split=2,\n",
              "                                                      min_weight_fraction_leaf=0.0,\n",
              "                                                      n_estimators=2000,\n",
              "                                                      n_jobs=None,\n",
              "                                                      oob_score=False,\n",
              "                                                      random_state=111,\n",
              "                                                      verbose=0,\n",
              "                                                      warm_start=False)),\n",
              "                    shuffle=True, store_train_meta_features=False,\n",
              "                    use_features_in_secondary=True)"
            ]
          },
          "metadata": {
            "tags": []
          },
          "execution_count": 49
        }
      ]
    },
    {
      "cell_type": "code",
      "metadata": {
        "id": "5jSfjrBNlEat",
        "colab_type": "code",
        "colab": {}
      },
      "source": [
        "Predict=avg.predict(np.array(te.drop('SalesInMillions',axis=1)))"
      ],
      "execution_count": null,
      "outputs": []
    },
    {
      "cell_type": "code",
      "metadata": {
        "id": "02Psdsj1uDCO",
        "colab_type": "code",
        "colab": {}
      },
      "source": [
        "Submission=pd.DataFrame(Predict,columns=['SalesInMillions'])"
      ],
      "execution_count": null,
      "outputs": []
    },
    {
      "cell_type": "code",
      "metadata": {
        "id": "xPVCB7F5uC_B",
        "colab_type": "code",
        "colab": {}
      },
      "source": [
        "Submission.to_excel('/content/sub1.xlsx',index=False)"
      ],
      "execution_count": null,
      "outputs": []
    },
    {
      "cell_type": "markdown",
      "metadata": {
        "id": "onlVqh3SbWQ5",
        "colab_type": "text"
      },
      "source": [
        "##### For this problem statement and given data, CatBoost model performed well and gave better results compared to other models stacked together"
      ]
    },
    {
      "cell_type": "code",
      "metadata": {
        "id": "hfMuMq0V7Ng6",
        "colab_type": "code",
        "colab": {
          "base_uri": "https://localhost:8080/",
          "height": 204
        },
        "outputId": "61445b4a-aa41-4d88-eb88-d09b7061093e"
      },
      "source": [
        "Submission.head()"
      ],
      "execution_count": null,
      "outputs": [
        {
          "output_type": "execute_result",
          "data": {
            "text/html": [
              "<div>\n",
              "<style scoped>\n",
              "    .dataframe tbody tr th:only-of-type {\n",
              "        vertical-align: middle;\n",
              "    }\n",
              "\n",
              "    .dataframe tbody tr th {\n",
              "        vertical-align: top;\n",
              "    }\n",
              "\n",
              "    .dataframe thead th {\n",
              "        text-align: right;\n",
              "    }\n",
              "</style>\n",
              "<table border=\"1\" class=\"dataframe\">\n",
              "  <thead>\n",
              "    <tr style=\"text-align: right;\">\n",
              "      <th></th>\n",
              "      <th>SalesInMillions</th>\n",
              "    </tr>\n",
              "  </thead>\n",
              "  <tbody>\n",
              "    <tr>\n",
              "      <th>0</th>\n",
              "      <td>1.392137</td>\n",
              "    </tr>\n",
              "    <tr>\n",
              "      <th>1</th>\n",
              "      <td>2.917670</td>\n",
              "    </tr>\n",
              "    <tr>\n",
              "      <th>2</th>\n",
              "      <td>2.629541</td>\n",
              "    </tr>\n",
              "    <tr>\n",
              "      <th>3</th>\n",
              "      <td>1.794350</td>\n",
              "    </tr>\n",
              "    <tr>\n",
              "      <th>4</th>\n",
              "      <td>1.909511</td>\n",
              "    </tr>\n",
              "  </tbody>\n",
              "</table>\n",
              "</div>"
            ],
            "text/plain": [
              "   SalesInMillions\n",
              "0         1.392137\n",
              "1         2.917670\n",
              "2         2.629541\n",
              "3         1.794350\n",
              "4         1.909511"
            ]
          },
          "metadata": {
            "tags": []
          },
          "execution_count": 55
        }
      ]
    }
  ]
}